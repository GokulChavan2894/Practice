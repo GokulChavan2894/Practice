{
 "cells": [
  {
   "cell_type": "markdown",
   "metadata": {},
   "source": [
    "## File handling \n",
    "\n",
    "##### Syntax for opeing file  :    f=open(filename,mode)\n",
    "##### Syntax for closing file  :   f.close()                      \n",
    "\n",
    "##### Allowed modes-  read(r), write(w),append(a),read and wirte(r+), write and read(w+)"
   ]
  },
  {
   "cell_type": "code",
   "execution_count": null,
   "metadata": {},
   "outputs": [],
   "source": [
    "f=open(r\"C:\\Users\\Gopal Chavan\\Desktop\\abc.txt\",\"w\")\n",
    "\n",
    "print(\"File name:\", f.name)\n",
    "print(\"File mode:\", f.mode)\n",
    "print(\"is file redable:\", f.readable())\n",
    "print(\"is file writable :\", f.writable())\n",
    "print(\"is file closed:\", f.closed)\n",
    "\n",
    "f.close()\n",
    "print(\"is file closed:\", f.closed)\n"
   ]
  },
  {
   "cell_type": "markdown",
   "metadata": {},
   "source": [
    "### write data to text files:"
   ]
  },
  {
   "cell_type": "code",
   "execution_count": null,
   "metadata": {},
   "outputs": [],
   "source": [
    "f=open(r\"C:\\Users\\Gopal Chavan\\Desktop\\myfile.txt\",\"w\")\n",
    "f.write(\"Karma hs no deadlione \\n\")\n",
    "f.write(\"Radhe Radhe\\n\")\n",
    "\n",
    "print (\"Data written successfully\")\n",
    "f.close()"
   ]
  },
  {
   "cell_type": "code",
   "execution_count": null,
   "metadata": {},
   "outputs": [],
   "source": [
    "f=open(r\"C:\\Users\\Gopal Chavan\\Desktop\\myfile.txt\",\"w\")\n",
    "List=[\"Gopal\\n\",\"Raju\\n\", \"Himanshu\\n\"]\n",
    "f.writelines(List)\n",
    "print (\"Data written successfully\")\n",
    "f.close()"
   ]
  },
  {
   "cell_type": "markdown",
   "metadata": {},
   "source": [
    "### Reading date from text files\n",
    "\n",
    "\n",
    "#### read() .... to read data \n",
    "#### read() ... to read n characters \n",
    "#### readline()  ....read only one time\n",
    "#### readlines()  ....read all lines\n",
    "\n"
   ]
  },
  {
   "cell_type": "code",
   "execution_count": null,
   "metadata": {},
   "outputs": [],
   "source": [
    "f=open(r\"C:\\Users\\Gopal Chavan\\Desktop\\myfile.txt\",\"r\")\n",
    "print(\"mode of the file: \",f.mode)\n",
    "data= f.read()\n",
    "print(data)\n",
    "f.close()\n"
   ]
  },
  {
   "cell_type": "code",
   "execution_count": null,
   "metadata": {},
   "outputs": [],
   "source": [
    "#to read only first 10 charachters\n",
    "f=open(r\"C:\\Users\\Gopal Chavan\\Desktop\\myfile.txt\",\"r\")\n",
    "data= f.read(10)\n",
    "print(data)\n",
    "f.close()\n"
   ]
  },
  {
   "cell_type": "code",
   "execution_count": null,
   "metadata": {},
   "outputs": [],
   "source": [
    "#to read data line by line\n",
    "f=open(r\"C:\\Users\\Gopal Chavan\\Desktop\\myfile.txt\",\"r\")\n",
    "line1= f.readline()\n",
    "print(line1)\n",
    "line2= f.readline()\n",
    "print(line2)\n",
    "line3= f.readline()\n",
    "print(line3)\n",
    "f.close()\n",
    "\n"
   ]
  },
  {
   "cell_type": "code",
   "execution_count": null,
   "metadata": {},
   "outputs": [],
   "source": [
    "# TO read all lines\n",
    "f=open(r\"C:\\Users\\Gopal Chavan\\Desktop\\myfile.txt\",\"r\")\n",
    "lines=f.readlines()\n",
    "for  line in lines:\n",
    "    print(line, end='')"
   ]
  },
  {
   "cell_type": "markdown",
   "metadata": {},
   "source": [
    "## The with statement"
   ]
  },
  {
   "cell_type": "code",
   "execution_count": null,
   "metadata": {},
   "outputs": [],
   "source": [
    "with open(r\"C:\\Users\\Gopal Chavan\\Desktop\\myfile.txt\",\"w\") as f:\n",
    "    f.write(\"When will pandamic over\\n\")\n",
    "    f.write(\"When will office open \\n\")\n",
    "    print(\"is file is closed or not:\",f.closed)\n",
    "print(\"is file is closed or not:\",f.closed)   "
   ]
  },
  {
   "cell_type": "markdown",
   "metadata": {},
   "source": [
    "### seek and tell method"
   ]
  },
  {
   "cell_type": "code",
   "execution_count": null,
   "metadata": {},
   "outputs": [],
   "source": [
    "#tell ....to return curretn position of the cursor\n",
    "\n",
    "\n",
    "f=open(r\"C:\\Users\\Gopal Chavan\\Desktop\\myfile.txt\",\"r\")\n",
    "print(f.tell())\n",
    "print(f.read(2))\n",
    "print(f.tell())\n",
    "print(f.read(3))"
   ]
  },
  {
   "cell_type": "code",
   "execution_count": null,
   "metadata": {},
   "outputs": [],
   "source": [
    "#seek  ..move cursor  on specified location\n",
    "# Syntax: f.seek(set,fromwhere)\n",
    "\n",
    "Data=\"All students sare STUDPIDS\"\n",
    "f=open(r\"C:\\Users\\Gopal Chavan\\Desktop\\myfile.txt\",\"w\")\n",
    "f.write(data)\n",
    "\n",
    "with open(r\"C:\\Users\\Gopal Chavan\\Desktop\\myfile.txt\",\"r+\") as f:\n",
    "    Text=f.read()\n",
    "    print(Text)\n",
    "    print(\"The curent cursor postion :\" ,f.tell())\n",
    "    f.seek(7)\n",
    "    print(\"The curent cursor postion :\" ,f.tell())\n",
    "    f.write(\"GEMS\")\n",
    "    "
   ]
  },
  {
   "cell_type": "markdown",
   "metadata": {},
   "source": [
    "### How to check Perticuler file exist or not\n",
    "\n",
    "##### os.path.isfile(fname)"
   ]
  },
  {
   "cell_type": "code",
   "execution_count": null,
   "metadata": {},
   "outputs": [],
   "source": [
    "import os ,sys\n",
    "\n",
    "fname=input(\"Entre file name  :\")\n",
    "\n",
    "if os.path.isfile(fname):\n",
    "    print(\"file exist :\", fname)\n",
    "    f=open(fname,\"r\")\n",
    "else:\n",
    "    print(\"File doses not exist :\", fname)\n",
    "    sys.exit(0)\n"
   ]
  },
  {
   "cell_type": "markdown",
   "metadata": {},
   "source": [
    "## Handling CSV files"
   ]
  },
  {
   "cell_type": "code",
   "execution_count": null,
   "metadata": {},
   "outputs": [],
   "source": [
    "#writing data to CSV files\n",
    "import csv\n",
    "with open(r\"C:\\Users\\Gopal Chavan\\Desktop\\emp.csv\",\"w\",newline='')as f:\n",
    "    w=csv.writer(f)\n",
    "    w.writerow([\"Eno\",\"Ename\",\"Esalery\",\"Eaddress\"])\n",
    "    n=int(input(\"Entre number of empyees:\"))\n",
    "    for i in range (n):\n",
    "        eno=input(\"enter employee numer\")\n",
    "        ename=input(\"enter employee name\")\n",
    "        esallery=input(\"enter employee salery\")\n",
    "        eaddress=input(\"enter employee address\")\n",
    "        w.writerow([eno,ename,esallery,eaddress])\n",
    "print(\"Data inserted successfully\")"
   ]
  },
  {
   "cell_type": "code",
   "execution_count": null,
   "metadata": {},
   "outputs": [],
   "source": [
    "#reading data from csv\n",
    "\n",
    "import csv\n",
    "f=open(r\"C:\\Users\\Gopal Chavan\\Desktop\\emp.csv\",\"r\")\n",
    "r=csv.reader(f)\n",
    "\n",
    "data=list(r)\n",
    "for line in data:\n",
    "    for word in line:\n",
    "        print(\"word\")"
   ]
  },
  {
   "cell_type": "markdown",
   "metadata": {},
   "source": [
    "## To Create zip file"
   ]
  },
  {
   "cell_type": "code",
   "execution_count": null,
   "metadata": {},
   "outputs": [],
   "source": [
    "from zipfile import *\n",
    "\n",
    "f=ZipFile(\"files.zip\",\"w\",ZIP_DEFLATED)\n",
    "f.write(\"file1.txt\")\n",
    "f.close()\n",
    "print(\"fiules created successfully\")"
   ]
  },
  {
   "cell_type": "code",
   "execution_count": null,
   "metadata": {},
   "outputs": [],
   "source": []
  },
  {
   "cell_type": "code",
   "execution_count": null,
   "metadata": {},
   "outputs": [],
   "source": []
  }
 ],
 "metadata": {
  "kernelspec": {
   "display_name": "Python 3",
   "language": "python",
   "name": "python3"
  },
  "language_info": {
   "codemirror_mode": {
    "name": "ipython",
    "version": 3
   },
   "file_extension": ".py",
   "mimetype": "text/x-python",
   "name": "python",
   "nbconvert_exporter": "python",
   "pygments_lexer": "ipython3",
   "version": "3.7.3"
  }
 },
 "nbformat": 4,
 "nbformat_minor": 2
}
