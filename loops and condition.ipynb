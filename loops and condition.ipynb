{
 "cells": [
  {
   "cell_type": "code",
   "execution_count": null,
   "metadata": {},
   "outputs": [
    {
     "name": "stdout",
     "output_type": "stream",
     "text": [
      "Entre the three values:  13\n"
     ]
    }
   ],
   "source": [
    "a,b,c=[eval (x) for x in input(\"Entre the three values:  \").split(\" \")]\n",
    "\n",
    "product=a*b*c\n",
    "print(product)\n",
    "\n",
    "if (product %2 ==0):\n",
    "    print(\"The given product have returning even value ...\")\n",
    "else:\n",
    "    print(\"The given product have returning odd value....\")\n",
    "    "
   ]
  },
  {
   "cell_type": "code",
   "execution_count": 17,
   "metadata": {},
   "outputs": [
    {
     "name": "stdout",
     "output_type": "stream",
     "text": [
      "Hello welcome pyrthon  guru "
     ]
    }
   ],
   "source": [
    "print(\"Hello\", end=\" \")\n",
    "print(\"welcome\",end=\" \")\n",
    "print(\"pyrthon \",end=\" \")\n",
    "print(\"guru\", end=\" \")"
   ]
  },
  {
   "cell_type": "code",
   "execution_count": 27,
   "metadata": {},
   "outputs": [
    {
     "name": "stdout",
     "output_type": "stream",
     "text": [
      "10:20:30:40:50........10-20-30-50\n"
     ]
    }
   ],
   "source": [
    "\n",
    "print(10,20,30,40,50,sep=\":\",end=\"........\")\n",
    "print(10,20,30,50 ,sep=\"-\")"
   ]
  },
  {
   "cell_type": "code",
   "execution_count": 28,
   "metadata": {},
   "outputs": [
    {
     "name": "stdout",
     "output_type": "stream",
     "text": [
      "The first value is 10 \n"
     ]
    }
   ],
   "source": [
    "a,b,c=10,20,30\n",
    "print(\"The first value is %i \"%(a))\n",
    "print(\"The first value is %i \"%(a))\n"
   ]
  },
  {
   "cell_type": "code",
   "execution_count": 31,
   "metadata": {},
   "outputs": [
    {
     "name": "stdout",
     "output_type": "stream",
     "text": [
      "The  fisrt output is Gopal and second output is [10, 20, 30, 40, 50]\n"
     ]
    }
   ],
   "source": [
    "name=\"Gopal\"\n",
    "list=[10,20,30,40,50]\n",
    "print(\"The  fisrt output is %s and second output is %s\"%(name,list))"
   ]
  },
  {
   "cell_type": "code",
   "execution_count": 33,
   "metadata": {},
   "outputs": [
    {
     "name": "stdout",
     "output_type": "stream",
     "text": [
      "My name is Gopal and having current salary is 1532153 and my GF is Sampriti\n"
     ]
    }
   ],
   "source": [
    "name=\"Gopal\"\n",
    "salary=1532153\n",
    "GirlFriend=\"Sampriti\"\n",
    "print(\"My name is {0} and having current salary is {1} and my GF is {2}\".format(name,salary,GirlFriend))"
   ]
  },
  {
   "cell_type": "code",
   "execution_count": 35,
   "metadata": {},
   "outputs": [
    {
     "name": "stdout",
     "output_type": "stream",
     "text": [
      "My name is Gopal and having current salary is Sampriti and my GF is 1532153\n"
     ]
    }
   ],
   "source": [
    "name=\"Gopal\"\n",
    "salary=1532153\n",
    "GirlFriend=\"Sampriti\"\n",
    "print(\"My name is {0} and having current salary is {2} and my GF is {1}\".format(name,salary,GirlFriend))"
   ]
  },
  {
   "cell_type": "code",
   "execution_count": 13,
   "metadata": {},
   "outputs": [
    {
     "name": "stdout",
     "output_type": "stream",
     "text": [
      "2\n",
      "4\n",
      "6\n",
      "8\n",
      "10\n",
      "12\n",
      "14\n",
      "16\n",
      "18\n"
     ]
    }
   ],
   "source": [
    "x=1\n",
    "while x in range(20):\n",
    "    if x%2==0:\n",
    "        print(x)\n",
    "    x+=1\n",
    "    "
   ]
  },
  {
   "cell_type": "code",
   "execution_count": 26,
   "metadata": {},
   "outputs": [
    {
     "name": "stdout",
     "output_type": "stream",
     "text": [
      "Entre a number : 2\n",
      "The sum of 2  number : 2\n"
     ]
    }
   ],
   "source": [
    "n=int(input(\"Entre a number : \")) \n",
    " \n",
    "sum=0\n",
    "i=1\n",
    "\n",
    "while i <= n:\n",
    "    sum+=1\n",
    "    i+=1\n",
    "print(\"The sum of\" ,n,\" number :\",sum)\n",
    "    "
   ]
  },
  {
   "cell_type": "code",
   "execution_count": null,
   "metadata": {},
   "outputs": [
    {
     "name": "stdout",
     "output_type": "stream",
     "text": [
      "entre name :Gopal\n",
      "entre pwd :Python\n",
      "entre name :Gopal\n",
      "entre pwd :python\n",
      "entre name :Gopal\n",
      "entre pwd :Python\n",
      "entre name :Gopal\n",
      "entre pwd :Python\n"
     ]
    }
   ],
   "source": [
    "name=\"\"\n",
    "pwd=\"\"\n",
    "while (name != \"Gopal\") or (pwd!=\"Python\"):\n",
    "    name=input(\"entre name :\") \n",
    "    name=input(\"entre pwd :\")\n",
    "    \n",
    "print(\"welcome\")"
   ]
  },
  {
   "cell_type": "code",
   "execution_count": 2,
   "metadata": {},
   "outputs": [
    {
     "name": "stdout",
     "output_type": "stream",
     "text": [
      "Entre number of rows : 5\n",
      "*\n",
      "**\n",
      "***\n",
      "****\n",
      "*****\n"
     ]
    }
   ],
   "source": [
    "n=int(input(\"Entre number of rows : \"))\n",
    "\n",
    "for i in range(1,n+1):\n",
    "    \n",
    "    for j in  range(1,i+1):\n",
    "        print(\"*\", end=\"\")\n",
    "        \n",
    "    print()"
   ]
  },
  {
   "cell_type": "code",
   "execution_count": 8,
   "metadata": {},
   "outputs": [
    {
     "name": "stdout",
     "output_type": "stream",
     "text": [
      "Ramayan\n"
     ]
    }
   ],
   "source": [
    "s=\"Ramayan\"\n",
    "print(s[:])"
   ]
  },
  {
   "cell_type": "code",
   "execution_count": 11,
   "metadata": {},
   "outputs": [
    {
     "name": "stdout",
     "output_type": "stream",
     "text": [
      "The character present at positive index:1 and at negative index :-20 is W\n",
      "The character present at positive index:2 and at negative index :-19 is e\n",
      "The character present at positive index:3 and at negative index :-18 is l\n",
      "The character present at positive index:4 and at negative index :-17 is c\n",
      "The character present at positive index:5 and at negative index :-16 is o\n",
      "The character present at positive index:6 and at negative index :-15 is m\n",
      "The character present at positive index:7 and at negative index :-14 is e\n",
      "The character present at positive index:8 and at negative index :-13 is  \n",
      "The character present at positive index:9 and at negative index :-12 is t\n",
      "The character present at positive index:10 and at negative index :-11 is o\n",
      "The character present at positive index:11 and at negative index :-10 is  \n",
      "The character present at positive index:12 and at negative index :-9 is t\n",
      "The character present at positive index:13 and at negative index :-8 is h\n",
      "The character present at positive index:14 and at negative index :-7 is e\n",
      "The character present at positive index:15 and at negative index :-6 is  \n",
      "The character present at positive index:16 and at negative index :-5 is w\n",
      "The character present at positive index:17 and at negative index :-4 is o\n",
      "The character present at positive index:18 and at negative index :-3 is r\n",
      "The character present at positive index:19 and at negative index :-2 is l\n",
      "The character present at positive index:20 and at negative index :-1 is d\n",
      "The character present at positive index:21 and at negative index :0 is .\n"
     ]
    }
   ],
   "source": [
    "s=\"Welcome to the world.\"\n",
    "i=0\n",
    "for x in s:\n",
    "    i+=1\n",
    "    print(\"The character present at positive index:{} and at negative index :{} is {}\".format(i,i-len(s),x))"
   ]
  },
  {
   "cell_type": "code",
   "execution_count": 26,
   "metadata": {},
   "outputs": [
    {
     "name": "stdout",
     "output_type": "stream",
     "text": [
      "012\n"
     ]
    }
   ],
   "source": [
    "number= \"01236476547\"\n",
    "print(number[0:3])"
   ]
  },
  {
   "cell_type": "code",
   "execution_count": 6,
   "metadata": {},
   "outputs": [
    {
     "name": "stdout",
     "output_type": "stream",
     "text": [
      "Entre some string :Ramayana\n",
      "Data in forword direction\n",
      "R a m a y a n a \n",
      "anayamaR"
     ]
    }
   ],
   "source": [
    "s=input(\"Entre some string :\")\n",
    "\n",
    "n =len(s)\n",
    "i=0\n",
    "print(\"Data in forword direction\")\n",
    "\n",
    "while i < n:\n",
    "    print(s[i],end=\" \")\n",
    "    i+=1\n",
    "\n",
    "print()\n",
    "i=n-1\n",
    "while i>=0:\n",
    "    print(s[i],end=\" \")\n",
    "    i-=1\n",
    "    \n",
    "    "
   ]
  },
  {
   "cell_type": "code",
   "execution_count": 4,
   "metadata": {},
   "outputs": [
    {
     "name": "stdout",
     "output_type": "stream",
     "text": [
      "24\n"
     ]
    }
   ],
   "source": [
    "s=\"durgadurgadurgasoftdurgasoftdurga\"\n",
    "print(s.rfind(\"soft\"))"
   ]
  },
  {
   "cell_type": "code",
   "execution_count": 8,
   "metadata": {},
   "outputs": [
    {
     "name": "stdout",
     "output_type": "stream",
     "text": [
      "9\n"
     ]
    }
   ],
   "source": [
    "s=\"Ramayan By Walmiki\"\n",
    "print(s.rindex(\"y\"))"
   ]
  },
  {
   "cell_type": "code",
   "execution_count": 5,
   "metadata": {},
   "outputs": [
    {
     "name": "stdout",
     "output_type": "stream",
     "text": [
      "48\n",
      "32\n"
     ]
    }
   ],
   "source": [
    "a=\"asdaaaaaaaaaaaaaaaaaaabbbbbbbbbbbbbaaaaaaaaaaaaaaaavvvvvvvvaaaaaaaaaaaa\"\n",
    "print(a.count(\"a\"))\n",
    "print(a.count(\"a\",18,len(a)))"
   ]
  },
  {
   "cell_type": "code",
   "execution_count": 6,
   "metadata": {},
   "outputs": [
    {
     "name": "stdout",
     "output_type": "stream",
     "text": [
      "zdzsddzzzzzsdzsdzs\n"
     ]
    }
   ],
   "source": [
    "a=\"adasddaaaaasdasdas\"\n",
    "print(a.replace(\"a\",\"z\"))"
   ]
  },
  {
   "cell_type": "code",
   "execution_count": 8,
   "metadata": {},
   "outputs": [
    {
     "name": "stdout",
     "output_type": "stream",
     "text": [
      "f-d-f-d- -f-a-f-d- -a-s-f-d-i-a-k-a-a-i\n"
     ]
    }
   ],
   "source": [
    "a=\"fdfd fafd asfdiakaai\"\n",
    "print(\"-\".join(a))"
   ]
  },
  {
   "cell_type": "code",
   "execution_count": 22,
   "metadata": {},
   "outputs": [
    {
     "name": "stdout",
     "output_type": "stream",
     "text": [
      "False\n"
     ]
    }
   ],
   "source": [
    "s=\"adaa12dsd8d8dd81dasd45s\"\n",
    "print(s.istitle())"
   ]
  },
  {
   "cell_type": "code",
   "execution_count": 29,
   "metadata": {},
   "outputs": [
    {
     "name": "stdout",
     "output_type": "stream",
     "text": [
      "Entre any string: a\n",
      "Alpha numric charchacter\n",
      "Alpha betic chr\n",
      "it is lower case char\n"
     ]
    }
   ],
   "source": [
    "s=input(\"Entre any string: \")\n",
    "if s.isalnum():\n",
    "    print(\"Alpha numric charchacter\")\n",
    "    if s.isalpha():\n",
    "        print(\"Alpha betic chr\")\n",
    "        if s.islower():\n",
    "            print(\"it is lower case char\")\n",
    "        else:\n",
    "            print(\"upper\")"
   ]
  },
  {
   "cell_type": "code",
   "execution_count": 34,
   "metadata": {},
   "outputs": [
    {
     "name": "stdout",
     "output_type": "stream",
     "text": [
      "The Durga's Age is 35 and his salry is 10000 \n"
     ]
    }
   ],
   "source": [
    "name=\"Durga\"\n",
    "Age=35\n",
    "Salary=10000\n",
    "print(\"The {}'s Age is {} and his salry is {} \".format(name,Age,Salary))"
   ]
  },
  {
   "cell_type": "code",
   "execution_count": 35,
   "metadata": {},
   "outputs": [
    {
     "name": "stdout",
     "output_type": "stream",
     "text": [
      "agruD\n"
     ]
    }
   ],
   "source": [
    "name=\"Durga\"\n",
    "print(\"\".join(reversed(name)))"
   ]
  },
  {
   "cell_type": "code",
   "execution_count": 41,
   "metadata": {},
   "outputs": [
    {
     "name": "stdout",
     "output_type": "stream",
     "text": [
      "Entre the string: Mangesh\n",
      "The charcters at even position : Mneh\n",
      "The charcters at even position : ags\n"
     ]
    }
   ],
   "source": [
    "s=input(\"Entre the string: \")\n",
    "print(\"The charcters at even position :\", s[::2])\n",
    "print(\"The charcters at even position :\", s[1::2])"
   ]
  },
  {
   "cell_type": "code",
   "execution_count": 1,
   "metadata": {},
   "outputs": [
    {
     "name": "stdout",
     "output_type": "stream",
     "text": [
      "Entre the string : Ramayan\n",
      "The characters at even postion : \n",
      "R-m-y-n-\n",
      "The characters at odd  postion : \n",
      "a-a-a-"
     ]
    }
   ],
   "source": [
    "s=input(\"Entre the string : \")\n",
    "\n",
    "i=0\n",
    "print(\"The characters at even postion : \")\n",
    "\n",
    "while i< len(s):\n",
    "    print(s[i],end=\"-\")\n",
    "    i+=2\n",
    "    \n",
    "print() \n",
    "\n",
    "i=1\n",
    "print(\"The characters at odd  postion : \")\n",
    "while i< len(s):\n",
    "    print(s[i],end=\"-\")\n",
    "    i+=2\n",
    "    \n",
    "    "
   ]
  },
  {
   "cell_type": "code",
   "execution_count": 11,
   "metadata": {},
   "outputs": [
    {
     "name": "stdout",
     "output_type": "stream",
     "text": [
      "Entre the string : Ramayan\n",
      "The characters at even position:\n",
      "R,m,y,n,\n",
      "The characters at odd position:\n",
      "a,a,a,"
     ]
    }
   ],
   "source": [
    "s=input(\"Entre the string : \")\n",
    "print(\"The characters at even position:\")\n",
    "for i in range(len(s)):\n",
    "    \n",
    "    if i%2==0:\n",
    "        print(s[i],end=\",\")\n",
    "\n",
    "print()\n",
    "        \n",
    "print(\"The characters at odd position:\")\n",
    "for i in range(len(s)):\n",
    "    \n",
    "    if i%2==1:\n",
    "        print(s[i],end=\",\")"
   ]
  },
  {
   "cell_type": "code",
   "execution_count": 2,
   "metadata": {},
   "outputs": [
    {
     "name": "stdout",
     "output_type": "stream",
     "text": [
      "Entre the string : Ra12aa1r2f1a5r\n",
      "Raaaafrr111225\n"
     ]
    }
   ],
   "source": [
    "s=input(\"Entre the string : \")\n",
    "s1=s2=output=\"\"\n",
    "for x in s:\n",
    "    if x.isalpha():\n",
    "        s1+=x\n",
    "    else:\n",
    "        s2+=x\n",
    "for x in sorted(s1):\n",
    "    output+=x\n",
    "\n",
    "for x in sorted(s2):\n",
    "    output+=x\n",
    "print(output)"
   ]
  },
  {
   "cell_type": "code",
   "execution_count": 4,
   "metadata": {},
   "outputs": [
    {
     "name": "stdout",
     "output_type": "stream",
     "text": [
      "10\n"
     ]
    }
   ],
   "source": [
    "exa_lamda=lambda x: x*2\n",
    "print(exa_lamda(5))"
   ]
  },
  {
   "cell_type": "code",
   "execution_count": 12,
   "metadata": {},
   "outputs": [
    {
     "name": "stdout",
     "output_type": "stream",
     "text": [
      "[10, 20, 30, 13, 7, 9, 40, 50, 60]\n",
      "[10, 20, 30, 40, 50, 60]\n"
     ]
    }
   ],
   "source": [
    "my_list=[10,20,30,13,7,9,40,50,60]\n",
    "new_list=list(filter(lambda x: (x%2==0),my_list))\n",
    "print(my_list)\n",
    "print(new_list)"
   ]
  },
  {
   "cell_type": "code",
   "execution_count": null,
   "metadata": {},
   "outputs": [],
   "source": []
  }
 ],
 "metadata": {
  "kernelspec": {
   "display_name": "Python 3",
   "language": "python",
   "name": "python3"
  },
  "language_info": {
   "codemirror_mode": {
    "name": "ipython",
    "version": 3
   },
   "file_extension": ".py",
   "mimetype": "text/x-python",
   "name": "python",
   "nbconvert_exporter": "python",
   "pygments_lexer": "ipython3",
   "version": "3.7.3"
  }
 },
 "nbformat": 4,
 "nbformat_minor": 2
}
