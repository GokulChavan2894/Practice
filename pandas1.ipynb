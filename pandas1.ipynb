{
 "cells": [
  {
   "cell_type": "code",
   "execution_count": null,
   "metadata": {},
   "outputs": [],
   "source": [
    "import pandas as pd\n",
    "df=pd.read_csv('\"C:\\Users\\Gopal Chavan\\Documents\\Book1.csv\")\n"
   ]
  },
  {
   "cell_type": "markdown",
   "metadata": {},
   "source": [
    "# Pandas\n"
   ]
  },
  {
   "cell_type": "code",
   "execution_count": null,
   "metadata": {},
   "outputs": [],
   "source": [
    "import pandas as pd\n",
    "import numpy as np\n",
    "\n",
    "#series\n",
    "\n",
    "s1=pd.Series(\"Python\",index=(\"Course\",))  #string\n",
    "s2=pd.Series([\"Python\",\"Java\",\"Selenium\"],index=(\"Course1\",\"Course2\",\"Course3\"))  #list\n",
    "s3=pd.Series((\"Python\",\"Java\",\"Selenium\"),index=(\"Course1\",\"Course2\",\"Course3\"))  #tuple\n",
    "s4=pd.Series({\"Course1\":\"Python\",\"Course2\":\"Java\",\"Course4\":\"Selenium\"},index=(\"Course1\",\"Course2\",\"Course3\"))  #Dict\n",
    "s5=pd.Series(np.array([1,2,3]),index=(\"Course1\",\"Course2\",\"Course3\"))\n",
    "\n",
    "print(s2,\"\\n\")\n",
    "print(s3,\"\\n\")\n",
    "print(s4,\"\\n\")\n",
    "print(s5)\n"
   ]
  },
  {
   "cell_type": "code",
   "execution_count": null,
   "metadata": {},
   "outputs": [],
   "source": [
    "import pandas as pd\n",
    "\n",
    "#Series using data structure\n",
    "\n",
    "data=[[\"jatin\",35], [\"Gopal\",24],[\"Vijay\",30]]\n",
    "s1=pd.Series(data, index=(\"employee1\",\"employee2\",\"employee3\"))\n",
    "\n",
    "data=[{\"name\":\"jatin\", \"age\":35}, {\"name\":\"Gopal\",\"age\":24},{\"name\":\"Vijay\",\"age\":30}]\n",
    "\n",
    "s2=pd.Series(data,index=(\"employee1\",\"employee2\",\"employee3\"))\n",
    "\n",
    "print(s1,\"\\n\")\n",
    "print(s2)"
   ]
  },
  {
   "cell_type": "code",
   "execution_count": null,
   "metadata": {},
   "outputs": [],
   "source": [
    "dataset= {\"Delhi\":1000 ,\"Pune\":900, \"Mumbai\":2000,  \"Chennai\":1500  ,\"Dhule\":None }\n",
    "            \n",
    "cities=pd.Series(dataset)\n",
    "\n",
    "print(cities.sum())\n",
    "print(cities.mean())\n",
    "print(cities.max())\n",
    "print(cities.min())\n",
    "print(cities.std())\n",
    "print(cities.var())\n",
    "print(cities[cities.isnull()])\n",
    "print(\"Delhi\" in cities)\n"
   ]
  },
  {
   "cell_type": "code",
   "execution_count": null,
   "metadata": {},
   "outputs": [],
   "source": [
    "dataset= {\"Delhi\":1000 ,\"Pune\":900, \"Mumbai\":2000,  \"Chennai\":1500  ,\"Dhule\":None }\n",
    "            \n",
    "cities=pd.Series(dataset)\n",
    "\n",
    "\n",
    "print(cities)\n",
    "print(cities.sum())\n",
    "print(cities.mean())\n",
    "print(cities.max())\n",
    "print(cities.min())\n",
    "print(cities.std())\n",
    "print(cities.var())\n",
    "print(cities[cities.isnull()])\n",
    "print(\"Mumbai\" in cities)\n"
   ]
  },
  {
   "cell_type": "code",
   "execution_count": null,
   "metadata": {},
   "outputs": [],
   "source": [
    "import pandas as pd\n",
    "\n",
    "dataset=  {\"Team\": [\"India\",\"Austrelia\"], \"Win\":[427,450],\n",
    "            \"Loss\":[102,121], \"Tie\":[7,22]}\n",
    "\n",
    "df1=pd.DataFrame(dataset,index=(\"Team1\",\"Team2\"))\n",
    "\n",
    "\n",
    "print(df1)\n",
    "print()\n",
    "\n",
    "\n",
    "print(df1[\"Team\"])\n",
    "print()\n",
    "\n",
    "print(df1.Team)\n",
    "print()\n",
    "\n",
    "\n",
    "#Add new coloumn\n",
    "\n",
    "df1[\"TotalMatches\"]= df1[\"Win\"] + df1[\"Loss\"]  +df1[\"Tie\"]\n",
    "\n",
    "\n",
    "\n"
   ]
  },
  {
   "cell_type": "code",
   "execution_count": null,
   "metadata": {},
   "outputs": [],
   "source": [
    "import pandas as pd\n",
    "\n",
    "dataset=[[\"India\",100],  [\"Aus\" ,200],  [\"SA\",300]]\n",
    "\n",
    "\n",
    "df1=pd.DataFrame(dataset,columns=[\"Team\",\"Win\"])\n",
    "\n",
    "\n",
    "\n",
    "print(df1)\n",
    "print()\n"
   ]
  },
  {
   "cell_type": "code",
   "execution_count": null,
   "metadata": {},
   "outputs": [],
   "source": []
  },
  {
   "cell_type": "code",
   "execution_count": null,
   "metadata": {},
   "outputs": [],
   "source": [
    "import pandas as pd\n",
    "\n",
    "zensar = pd.read_csv(\"BSE-BOM504067.csv\")\n",
    "zensar[\"Year\"]= pd.to_datetime(zensar.Date).dt.year\n",
    "\n",
    "print(zensar[zensar[\"Year\"] ==2019][\"Close\"].mean())\n",
    "\n",
    "#print(zensor[[\"Date\", \"Year\"]])"
   ]
  },
  {
   "cell_type": "code",
   "execution_count": null,
   "metadata": {},
   "outputs": [],
   "source": [
    "import pandas as pd\n",
    "import quandl\n",
    "\n",
    "dataset=quandl.get(\"BSE/BOM504067\", authtoken=\"\")\n",
    "dataset[\"Date\"]=pd.to_datetime(dataset.index)\n",
    "dataset[\"Year\"]=dataset[\"Date\"].dt.year\n",
    "\n",
    "print(dataset[dateset[\"Year\"]==2019][\"Close\".mean()])"
   ]
  },
  {
   "cell_type": "code",
   "execution_count": null,
   "metadata": {},
   "outputs": [],
   "source": [
    "import pandas as pd\n",
    "\n",
    "retings= pd.read_csv(\"ml-lmratings.dat\",sep= \"::\"),names=[\"userid\",\"movieid\",\"rating\"],usecols=[0,1,2],\n"
   ]
  },
  {
   "cell_type": "code",
   "execution_count": null,
   "metadata": {},
   "outputs": [],
   "source": [
    "import pandas as pd\n",
    "\n",
    "ratings = pd.read_csv (\"\")"
   ]
  }
 ],
 "metadata": {
  "kernelspec": {
   "display_name": "Python 3",
   "language": "python",
   "name": "python3"
  },
  "language_info": {
   "codemirror_mode": {
    "name": "ipython",
    "version": 3
   },
   "file_extension": ".py",
   "mimetype": "text/x-python",
   "name": "python",
   "nbconvert_exporter": "python",
   "pygments_lexer": "ipython3",
   "version": "3.7.3"
  }
 },
 "nbformat": 4,
 "nbformat_minor": 2
}
