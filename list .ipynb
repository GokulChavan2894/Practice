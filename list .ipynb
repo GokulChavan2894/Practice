{
 "cells": [
  {
   "cell_type": "markdown",
   "metadata": {},
   "source": [
    "# List"
   ]
  },
  {
   "cell_type": "code",
   "execution_count": null,
   "metadata": {},
   "outputs": [],
   "source": [
    "#Creation of list object\n",
    "\n",
    "list=[]    #empty list\n",
    "print(type(list))"
   ]
  },
  {
   "cell_type": "code",
   "execution_count": null,
   "metadata": {},
   "outputs": [],
   "source": [
    "List=[10,20,30,40]\n",
    "print(List)"
   ]
  },
  {
   "cell_type": "code",
   "execution_count": null,
   "metadata": {},
   "outputs": [],
   "source": [
    "#with dynamic input\n",
    "List=eval(input(\"Entre list :\"))\n",
    "print(List)"
   ]
  },
  {
   "cell_type": "code",
   "execution_count": null,
   "metadata": {},
   "outputs": [],
   "source": [
    "#with list function\n",
    "l=list(range(0,10,2))\n",
    "print(l)\n",
    "print(type(l))"
   ]
  },
  {
   "cell_type": "code",
   "execution_count": null,
   "metadata": {},
   "outputs": [],
   "source": [
    "#with spli function\n",
    "\n",
    "S=\"Learning python is very easy\"\n",
    "l=S.split()\n",
    "print(l)\n",
    "print(type(l))"
   ]
  },
  {
   "cell_type": "markdown",
   "metadata": {},
   "source": [
    "##### Accessing element  of list "
   ]
  },
  {
   "cell_type": "code",
   "execution_count": null,
   "metadata": {},
   "outputs": [],
   "source": [
    "#by using index\n",
    "\n",
    "list=[10,20,30,40]\n",
    "print(list)\n",
    "\n",
    "print(list[0])\n",
    "print(list[1])\n",
    "print(list[2])\n",
    "print(list[3])"
   ]
  },
  {
   "cell_type": "code",
   "execution_count": null,
   "metadata": {},
   "outputs": [],
   "source": [
    "#by using slice operator\n",
    "#Syntax  :  list2=list1[start:stop:step]\n",
    "\n",
    "n=[1,2,3,4,5,6,7,8,9,10]\n",
    "print(n)\n",
    "\n",
    "print(n[2:7:2])\n",
    "print(n[0:7:2])\n",
    "print(n[2:7])\n",
    "print(n[2::2])\n",
    "print(n[3:])\n",
    "print(n[:7:2])\n"
   ]
  },
  {
   "cell_type": "code",
   "execution_count": null,
   "metadata": {},
   "outputs": [],
   "source": [
    "#List vs mutability\n",
    "#once we create list object we can modiufy its content Hence list object asre mutable\n",
    "\n",
    "n=[10,20,30,40]\n",
    "print(n)\n",
    "n[1]=777\n",
    "n[3]=100\n",
    "n[0]=\"Gopasl\"\n",
    "print(n)"
   ]
  },
  {
   "cell_type": "code",
   "execution_count": null,
   "metadata": {},
   "outputs": [],
   "source": [
    "#Traversing of list element \n",
    "#By using the while loop\n",
    "\n",
    "\n",
    "n=[1,2,3,4,5,6,7,8,9,10]\n",
    "i =0\n",
    "while i<len(n):\n",
    "    print(n[i])\n",
    "    i+=1"
   ]
  },
  {
   "cell_type": "code",
   "execution_count": null,
   "metadata": {},
   "outputs": [],
   "source": [
    "#By using for loop\n",
    "n=[0,1,2,3,4,5,6,7,8,9,10]\n",
    "for n1 in n:\n",
    "    print(n1)"
   ]
  },
  {
   "cell_type": "code",
   "execution_count": null,
   "metadata": {},
   "outputs": [],
   "source": [
    "#To display only even number \n",
    "n=[0,1,2,3,4,5,6,7,8,9,10]\n",
    "for n1 in n:\n",
    "    if n1%2==0:\n",
    "        print(n1)\n",
    "          "
   ]
  },
  {
   "cell_type": "markdown",
   "metadata": {},
   "source": [
    "### important functions of list"
   ]
  },
  {
   "cell_type": "code",
   "execution_count": null,
   "metadata": {},
   "outputs": [],
   "source": [
    "# to get information about list\n",
    "\n",
    "#1.len()\n",
    "\n",
    "n=[10,20,45,35,5]\n",
    "print(len(n))\n",
    "\n",
    "\n",
    "#count()\n",
    "\n",
    "n=[1,1,1,3,3,3,4,4,4,5,5,55,5,55,5]\n",
    "print(n.count(5))\n",
    "\n",
    "#index\n",
    "\n",
    "n=[1,1,1,3,3,3,4,4,4,5,5,55,5,55,5]\n",
    "print(n.index(55))"
   ]
  },
  {
   "cell_type": "code",
   "execution_count": null,
   "metadata": {},
   "outputs": [],
   "source": [
    "\n",
    "# append()\n",
    "list=[]\n",
    "list.append(\"Gopal\")\n",
    "list.append(\"Python\")\n",
    "list.append(\"india\")\n",
    "list.append(\"Delhi\")\n",
    "print(list)"
   ]
  },
  {
   "cell_type": "code",
   "execution_count": null,
   "metadata": {},
   "outputs": [],
   "source": [
    "list=[]\n",
    "for i in range(101):\n",
    "    if i%10==0:\n",
    "        list.append(i)\n",
    "print(list)"
   ]
  },
  {
   "cell_type": "code",
   "execution_count": null,
   "metadata": {},
   "outputs": [],
   "source": [
    "#insert\n",
    "\n",
    "n=[1,2,3,4,5]\n",
    "n.insert(1,88)\n",
    "print(n)\n",
    "\n",
    "\n",
    "\n",
    "n=[1,2,3,4,5]\n",
    "n.insert(3,100)\n",
    "print(n)"
   ]
  },
  {
   "cell_type": "code",
   "execution_count": null,
   "metadata": {},
   "outputs": [],
   "source": [
    "#extend\n",
    "#l1.extend(l2)\n",
    "\n",
    "list1=[\"Gopal\", \"India\",\"Goa\"]\n",
    "list2=[12,3,4,5]\n",
    "\n",
    "list1.extend(list2)\n",
    "print(list1)"
   ]
  },
  {
   "cell_type": "code",
   "execution_count": null,
   "metadata": {},
   "outputs": [],
   "source": [
    "#remove function\n",
    "\n",
    "list2=[12,3,4,5]\n",
    "list2.remove(4)\n",
    "\n",
    "print(list2)"
   ]
  },
  {
   "cell_type": "code",
   "execution_count": null,
   "metadata": {},
   "outputs": [],
   "source": [
    "#Pop fucntion\n",
    "list1=[12,3,4,5]\n",
    "print(list1.pop())\n",
    "print(list1)\n"
   ]
  },
  {
   "cell_type": "code",
   "execution_count": null,
   "metadata": {},
   "outputs": [],
   "source": [
    "#orderning of element\n",
    "\n",
    "#1. reverse()\n",
    "\n",
    "n=[10,2,30,45]\n",
    "n.reverse()\n",
    "print(n)"
   ]
  },
  {
   "cell_type": "code",
   "execution_count": null,
   "metadata": {},
   "outputs": [],
   "source": [
    "#2. Sort function\n",
    "n=[10,2,30,45]\n",
    "n.sort()\n",
    "print(n)"
   ]
  },
  {
   "cell_type": "code",
   "execution_count": null,
   "metadata": {},
   "outputs": [],
   "source": [
    "list1=[\"Gopal\", \"India\",\"Goa\"]\n",
    "list1.sort()\n",
    "print(list1)"
   ]
  },
  {
   "cell_type": "code",
   "execution_count": null,
   "metadata": {},
   "outputs": [],
   "source": [
    "n=[10,2,30,45]\n",
    "n.sort(reverse=True)\n",
    "print(n)"
   ]
  },
  {
   "cell_type": "code",
   "execution_count": null,
   "metadata": {},
   "outputs": [],
   "source": [
    "n=[10,2,30,45]\n",
    "n.sort(reverse=False)\n",
    "print(n)"
   ]
  },
  {
   "cell_type": "markdown",
   "metadata": {},
   "source": [
    "### Alising and cloning of list objects"
   ]
  },
  {
   "cell_type": "code",
   "execution_count": null,
   "metadata": {},
   "outputs": [],
   "source": [
    "#Alising and cloning of list objects\n",
    "x=[10,20,46,90]\n",
    "print(x)\n",
    "y=x\n",
    "print(id(x))\n",
    "print(id(y))"
   ]
  },
  {
   "cell_type": "code",
   "execution_count": null,
   "metadata": {},
   "outputs": [],
   "source": [
    "x=[10,20,46,90]\n",
    "y=x\n",
    "y[1]=777\n",
    "print(x)"
   ]
  },
  {
   "cell_type": "code",
   "execution_count": null,
   "metadata": {},
   "outputs": [],
   "source": [
    "#copy\n",
    "x=[1,3,4,5,6,7]\n",
    "y=x.copy()\n",
    "y[1]=777\n",
    "print(x)\n",
    "print(y)"
   ]
  },
  {
   "cell_type": "code",
   "execution_count": null,
   "metadata": {},
   "outputs": [],
   "source": [
    "#clear\n",
    "\n",
    "n=[10,20,30,40]\n",
    "print(n)\n",
    "\n",
    "\n",
    "n.clear()\n",
    "print(n)"
   ]
  },
  {
   "cell_type": "markdown",
   "metadata": {},
   "source": [
    "## List Comprehensions\n",
    "\n",
    "#### it is very easy and compact way of creating list objects from any iterable objects like list , tiple ,dict, range etc based on some condtion\n",
    "\n",
    "### Syntax:     list[expression for item in list if condiotn]  "
   ]
  },
  {
   "cell_type": "code",
   "execution_count": null,
   "metadata": {},
   "outputs": [],
   "source": [
    "L= [x*x for x in range (1,11)]\n",
    "print(L)"
   ]
  },
  {
   "cell_type": "code",
   "execution_count": null,
   "metadata": {},
   "outputs": [],
   "source": [
    "L1=[y**2 for y in range (1,6)]\n",
    "print(L1)"
   ]
  },
  {
   "cell_type": "code",
   "execution_count": null,
   "metadata": {},
   "outputs": [],
   "source": [
    "L= [x*x for x in range (1,11)]\n",
    "print(L)\n",
    "L3=[x for x in L if x%2==0]\n",
    "print(L3)"
   ]
  },
  {
   "cell_type": "code",
   "execution_count": null,
   "metadata": {},
   "outputs": [],
   "source": [
    "num1=[10,20,30,50,67,90]\n",
    "num2=[40,30,50,90,32,45,66,80]\n",
    "num3=[i for i in num1 if i not in num2]\n",
    "print(num3)"
   ]
  },
  {
   "cell_type": "code",
   "execution_count": null,
   "metadata": {},
   "outputs": [],
   "source": []
  }
 ],
 "metadata": {
  "kernelspec": {
   "display_name": "Python 3",
   "language": "python",
   "name": "python3"
  },
  "language_info": {
   "codemirror_mode": {
    "name": "ipython",
    "version": 3
   },
   "file_extension": ".py",
   "mimetype": "text/x-python",
   "name": "python",
   "nbconvert_exporter": "python",
   "pygments_lexer": "ipython3",
   "version": "3.7.3"
  }
 },
 "nbformat": 4,
 "nbformat_minor": 2
}
