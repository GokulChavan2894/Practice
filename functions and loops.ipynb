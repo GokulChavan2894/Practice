{
 "cells": [
  {
   "cell_type": "code",
   "execution_count": 14,
   "metadata": {},
   "outputs": [
    {
     "name": "stdout",
     "output_type": "stream",
     "text": [
      "Entre 3 values : 5 10 2\n",
      "17\n"
     ]
    }
   ],
   "source": [
    "a,b,c=[int(x) for x in input(\"Entre 3 values : \").split()]\n",
    "print(a+b+c)\n"
   ]
  },
  {
   "cell_type": "code",
   "execution_count": 1,
   "metadata": {},
   "outputs": [],
   "source": [
    "import datetime\n"
   ]
  },
  {
   "cell_type": "code",
   "execution_count": 6,
   "metadata": {},
   "outputs": [
    {
     "data": {
      "text/plain": [
       "datetime.date(2019, 7, 28)"
      ]
     },
     "execution_count": 6,
     "metadata": {},
     "output_type": "execute_result"
    }
   ],
   "source": [
    "datetime.date.today()"
   ]
  },
  {
   "cell_type": "code",
   "execution_count": 8,
   "metadata": {},
   "outputs": [
    {
     "data": {
      "text/plain": [
       "datetime.datetime(2019, 7, 28, 21, 28, 40, 825162)"
      ]
     },
     "execution_count": 8,
     "metadata": {},
     "output_type": "execute_result"
    }
   ],
   "source": [
    "datetime.datetime.now()"
   ]
  },
  {
   "cell_type": "code",
   "execution_count": 10,
   "metadata": {},
   "outputs": [
    {
     "data": {
      "text/plain": [
       "datetime.datetime(2019, 7, 28, 21, 30, 53, 865699)"
      ]
     },
     "execution_count": 10,
     "metadata": {},
     "output_type": "execute_result"
    }
   ],
   "source": [
    "#Another way\n",
    "from datetime import datetime\n",
    "datetime.now()"
   ]
  },
  {
   "cell_type": "code",
   "execution_count": 12,
   "metadata": {},
   "outputs": [
    {
     "data": {
      "text/plain": [
       "datetime.date(2019, 7, 28)"
      ]
     },
     "execution_count": 12,
     "metadata": {},
     "output_type": "execute_result"
    }
   ],
   "source": [
    "from datetime import date\n",
    "date.today()"
   ]
  },
  {
   "cell_type": "code",
   "execution_count": 15,
   "metadata": {},
   "outputs": [
    {
     "name": "stdout",
     "output_type": "stream",
     "text": [
      "9039 days, 0:00:00\n"
     ]
    }
   ],
   "source": [
    "my_bday=date(1994,10,28)\n",
    "my_bday\n",
    "\n",
    "# HOw to shows the number of days \n",
    "print(date.today()-my_bday)"
   ]
  },
  {
   "cell_type": "code",
   "execution_count": 17,
   "metadata": {},
   "outputs": [
    {
     "ename": "SyntaxError",
     "evalue": "invalid syntax (<ipython-input-17-9b404d6bbe90>, line 2)",
     "output_type": "error",
     "traceback": [
      "\u001b[1;36m  File \u001b[1;32m\"<ipython-input-17-9b404d6bbe90>\"\u001b[1;36m, line \u001b[1;32m2\u001b[0m\n\u001b[1;33m    hun_days=date.today()+\u001b[0m\n\u001b[1;37m                          ^\u001b[0m\n\u001b[1;31mSyntaxError\u001b[0m\u001b[1;31m:\u001b[0m invalid syntax\n"
     ]
    }
   ],
   "source": [
    "#if you add 100 days\n",
    "hun_days=date.today()+datetime.timed"
   ]
  },
  {
   "cell_type": "code",
   "execution_count": 19,
   "metadata": {},
   "outputs": [
    {
     "name": "stdout",
     "output_type": "stream",
     "text": [
      "None\n",
      "None\n",
      "None\n",
      "6\n",
      "[4, 3, 2, 'Sears', 1, 'sonu', 'dad', 'mom', 'me']\n"
     ]
    }
   ],
   "source": [
    "my_family=[\"me\",\"mom\",\"dad\",\"sonu\"]\n",
    "print(my_family.extend([1,2,3,4]))\n",
    "print(my_family.reverse())\n",
    "print(my_family.insert(3,\"Sears\"))\n",
    "print(my_family.index(\"dad\"))\n",
    "print(my_family)"
   ]
  },
  {
   "cell_type": "code",
   "execution_count": 11,
   "metadata": {},
   "outputs": [
    {
     "name": "stdout",
     "output_type": "stream",
     "text": [
      "Good Morning sonu\n",
      "Sorry\n"
     ]
    }
   ],
   "source": [
    "def wish(name):\n",
    "    print(\"Good Morning\",name)\n",
    "    print(\"Sorry\")\n",
    "wish(\"sonu\")"
   ]
  },
  {
   "cell_type": "code",
   "execution_count": 16,
   "metadata": {},
   "outputs": [
    {
     "name": "stdout",
     "output_type": "stream",
     "text": [
      "the square of is 10:100\n",
      "the square of is 20:400\n"
     ]
    }
   ],
   "source": [
    "def square (x):\n",
    "    print (\"the square of is {}:{}\".format(x,x*x))\n",
    "square(10)\n",
    "square(20)"
   ]
  },
  {
   "cell_type": "code",
   "execution_count": 21,
   "metadata": {},
   "outputs": [
    {
     "name": "stdout",
     "output_type": "stream",
     "text": [
      "The sum is : 30\n",
      "The sum is : 50\n"
     ]
    }
   ],
   "source": [
    "def  add (a,b):\n",
    "    return a+b\n",
    "result =add(10,20)\n",
    "print(\"The sum is :\",result)\n",
    "print(\"The sum is :\",add(30,20))"
   ]
  },
  {
   "cell_type": "code",
   "execution_count": 23,
   "metadata": {},
   "outputs": [
    {
     "name": "stdout",
     "output_type": "stream",
     "text": [
      "The number is even number:  10\n",
      "The number is odd number:  21\n"
     ]
    }
   ],
   "source": [
    "def even_odd(n):\n",
    "    if n%2==0:\n",
    "        print(\"The number is even number: \",n)\n",
    "    else:\n",
    "        print(\"The number is odd number: \",n)\n",
    "even_odd(10)\n",
    "even_odd(21)\n"
   ]
  },
  {
   "cell_type": "code",
   "execution_count": 27,
   "metadata": {},
   "outputs": [
    {
     "name": "stdout",
     "output_type": "stream",
     "text": [
      "2\n"
     ]
    }
   ],
   "source": [
    "def fact(n):\n",
    "    result=1\n",
    "    while n>=1:\n",
    "        result=result*n\n",
    "        n=n-1\n",
    "    return result\n",
    "print(fact(2))"
   ]
  },
  {
   "cell_type": "code",
   "execution_count": 29,
   "metadata": {},
   "outputs": [
    {
     "name": "stdout",
     "output_type": "stream",
     "text": [
      "The factoria of 1is :1\n",
      "The factoria of 2is :2\n",
      "The factoria of 3is :6\n",
      "The factoria of 4is :24\n",
      "The factoria of 5is :120\n"
     ]
    }
   ],
   "source": [
    "for i in range (1,6):\n",
    "    print(\"The factoria of {}is :{}\".format(i,fact(i)))"
   ]
  },
  {
   "cell_type": "code",
   "execution_count": 31,
   "metadata": {},
   "outputs": [
    {
     "name": "stdout",
     "output_type": "stream",
     "text": [
      "The result are :\n",
      "150\n",
      "50\n",
      "5000\n",
      "2.0\n"
     ]
    }
   ],
   "source": [
    "def cal (a,b):\n",
    "    sum=a+b\n",
    "    sub=a-b\n",
    "    mul=a*b\n",
    "    div=a/b\n",
    "    return sum,sub,mul,div\n",
    "t=cal(100,50)\n",
    "print(\"The result are :\")\n",
    "for i in t:\n",
    "    print(i)"
   ]
  },
  {
   "cell_type": "code",
   "execution_count": 1,
   "metadata": {},
   "outputs": [
    {
     "name": "stdout",
     "output_type": "stream",
     "text": [
      "Hello gopal Good morning\n"
     ]
    }
   ],
   "source": [
    "def wish(name,msg):\n",
    "    print(\"Hello\",name,msg)\n",
    "wish(name=\"gopal\",msg=\"Good morning\")"
   ]
  },
  {
   "cell_type": "code",
   "execution_count": 9,
   "metadata": {},
   "outputs": [
    {
     "name": "stdout",
     "output_type": "stream",
     "text": [
      "0\n",
      "10\n",
      "52\n",
      "129\n"
     ]
    }
   ],
   "source": [
    "def sum(*n):\n",
    "    result=0\n",
    "    for i in n:\n",
    "        result=result+i\n",
    "    print(result)\n",
    "sum()\n",
    "sum(10)\n",
    "sum(10,20,22)\n",
    "sum(10,20,45,54)"
   ]
  },
  {
   "cell_type": "code",
   "execution_count": 15,
   "metadata": {},
   "outputs": [
    {
     "name": "stdout",
     "output_type": "stream",
     "text": [
      "Gopal : 0\n",
      "sonu : 10\n",
      "dadu : 52\n",
      "monu : 129\n",
      "dikshu : 0\n"
     ]
    }
   ],
   "source": [
    "def sum(name=\"dikshu\",*n):\n",
    "    result=0\n",
    "    for i in n:\n",
    "        result=result+i\n",
    "    print(name,\":\" ,result)\n",
    "sum(\"Gopal\")\n",
    "sum(\"sonu\",10)\n",
    "sum(\"dadu\",10,20,22)\n",
    "sum(\"monu\",10,20,45,54)\n",
    "sum()\n"
   ]
  },
  {
   "cell_type": "code",
   "execution_count": 4,
   "metadata": {},
   "outputs": [
    {
     "name": "stdout",
     "output_type": "stream",
     "text": [
      "10\n",
      "10\n",
      "20\n",
      "30\n",
      "40\n"
     ]
    }
   ],
   "source": [
    "def f1(n1,*s):\n",
    "    print(n1)\n",
    "    for s1 in s:\n",
    "        print(s1)\n",
    "f1(10)\n",
    "f1(10,20,30,40)"
   ]
  },
  {
   "cell_type": "code",
   "execution_count": 9,
   "metadata": {},
   "outputs": [
    {
     "name": "stdout",
     "output_type": "stream",
     "text": [
      "n1 ......... 10\n",
      "n2 ......... 30\n",
      "n3 ......... 45\n",
      "name ......... Gopal\n",
      "EmpID ......... 1297180\n",
      "bikename ......... FZs\n"
     ]
    }
   ],
   "source": [
    "def display(**kwargs):\n",
    "    for k,v in kwargs.items():\n",
    "        print(k,\".........\",v)\n",
    "display(n1=10,n2=30,n3=45)\n",
    "display(name=\"Gopal\",EmpID=\"1297180\",bikename=\"FZs\")"
   ]
  },
  {
   "cell_type": "code",
   "execution_count": 4,
   "metadata": {},
   "outputs": [
    {
     "name": "stdout",
     "output_type": "stream",
     "text": [
      "The fact of given number 1\n",
      "The fact of given number 24\n",
      "The fact of given number 120\n"
     ]
    }
   ],
   "source": [
    "def fatorial (n):\n",
    "    if n==0:\n",
    "        result=1\n",
    "    else:\n",
    "        result=n*fatorial(n-1)\n",
    "    return result\n",
    "print(\"The fact of given number\", fatorial(0))\n",
    "print(\"The fact of given number\", fatorial(4))\n",
    "print(\"The fact of given number\", fatorial(5))"
   ]
  },
  {
   "cell_type": "code",
   "execution_count": 10,
   "metadata": {},
   "outputs": [
    {
     "name": "stdout",
     "output_type": "stream",
     "text": [
      "16\n",
      "256\n"
     ]
    }
   ],
   "source": [
    "def square (n):\n",
    "    return n*n\n",
    "print(square(4))\n",
    "print(square(16))\n"
   ]
  },
  {
   "cell_type": "code",
   "execution_count": 13,
   "metadata": {},
   "outputs": [
    {
     "name": "stdout",
     "output_type": "stream",
     "text": [
      "The square of given numner is : 25\n",
      "The square of given numner is : 36\n",
      "The square of given numner is : 49\n"
     ]
    }
   ],
   "source": [
    "s=lambda n:n*n\n",
    "print(\"The square of given numner is :\",s(5))\n",
    "print(\"The square of given numner is :\",s(6))\n",
    "print(\"The square of given numner is :\",s(7))"
   ]
  },
  {
   "cell_type": "markdown",
   "metadata": {},
   "source": [
    "# Filter\n",
    "## Syntax===>  filter(function,sequence)"
   ]
  },
  {
   "cell_type": "code",
   "execution_count": 1,
   "metadata": {},
   "outputs": [
    {
     "name": "stdout",
     "output_type": "stream",
     "text": [
      "[0, 50, 10, 20, 30, 40, 50]\n"
     ]
    }
   ],
   "source": [
    "\n",
    "l=[0,50,10,15,20,25,30,35,40,45,50]\n",
    "l1=list(filter(lambda x:x%2==0,l))\n",
    "print(l1)\n"
   ]
  },
  {
   "cell_type": "code",
   "execution_count": 4,
   "metadata": {},
   "outputs": [
    {
     "name": "stdout",
     "output_type": "stream",
     "text": [
      "<class 'filter'>\n",
      "[26, 12, 10, 40, 50]\n"
     ]
    }
   ],
   "source": [
    "def iseven(x):\n",
    "    if x%2==0:\n",
    "        return True\n",
    "    else:\n",
    "        return False\n",
    "l=[31,26,35,93,12,10,40,50,71]\n",
    "print(type(filter(iseven,l)))\n",
    "l2=list(filter(iseven,l))\n",
    "\n",
    "print(l2)"
   ]
  },
  {
   "cell_type": "code",
   "execution_count": 8,
   "metadata": {},
   "outputs": [
    {
     "name": "stdout",
     "output_type": "stream",
     "text": [
      "[100, 400, 900, 1600, 2500]\n"
     ]
    }
   ],
   "source": [
    "l1=[1,2,3,4,5]\n",
    "l2=[10,20,30,40,50]\n",
    "l3=[10,10,10,10,10]\n",
    "l3=list(map(lambda x,y,z:x*y*z,l1,l2,l3))\n",
    "print(l3)"
   ]
  },
  {
   "cell_type": "code",
   "execution_count": 11,
   "metadata": {},
   "outputs": [
    {
     "name": "stdout",
     "output_type": "stream",
     "text": [
      "<class 'tuple'>\n",
      "([1, 10], [3, 4], [500, 6], [7, 8], [9, 10])\n"
     ]
    }
   ],
   "source": [
    "tupleex=([1,2],[3,4],[5,6],[7,8],[9,10])\n",
    "print(type(tupleex))\n",
    "tupleex[0][1]=10\n",
    "tupleex[2][0]=500\n",
    "print(tupleex)"
   ]
  },
  {
   "cell_type": "code",
   "execution_count": 14,
   "metadata": {},
   "outputs": [
    {
     "name": "stdout",
     "output_type": "stream",
     "text": [
      "({'name': 'Laddu', 'age': 24}, ['gary', 25, 'USA'], 'sonu')\n"
     ]
    }
   ],
   "source": [
    "Tuple_new=({\"name\":\"Gopal\",\"age\":24},[\"gary\",25,\"USA\"],\"sonu\")\n",
    "Tuple_new[0][\"name\"]=\"Laddu\"\n",
    "print(Tuple_new)"
   ]
  },
  {
   "cell_type": "code",
   "execution_count": 22,
   "metadata": {},
   "outputs": [
    {
     "name": "stdout",
     "output_type": "stream",
     "text": [
      "Today is my day.\n",
      "Yes..! Ican do.\n",
      "Failure is my motivation .\n",
      "\n"
     ]
    }
   ],
   "source": [
    "infile=open(r\"C:\\Users\\Mangesh Patil\\Desktop\\practice.txt\")\n",
    "\n",
    "content=infile.read()\n",
    "print(content)"
   ]
  },
  {
   "cell_type": "code",
   "execution_count": 25,
   "metadata": {},
   "outputs": [
    {
     "name": "stdout",
     "output_type": "stream",
     "text": [
      "Today is my day.\n",
      "Yes..! Ican do.\n",
      "Failure is my motivation .\n",
      "\n",
      "<_io.TextIOWrapper name='C:\\\\Users\\\\Mangesh Patil\\\\Desktop\\\\new.txt' mode='w' encoding='cp1252'>\n"
     ]
    }
   ],
   "source": [
    "infile=open(r\"C:\\Users\\Mangesh Patil\\Desktop\\practice.txt\")\n",
    "outfile=open(r\"C:\\Users\\Mangesh Patil\\Desktop\\new.txt\",\"w\")\n",
    "content=infile.read()\n",
    "print(content)\n",
    "outfile.write(content)\n",
    "outfile.close()\n",
    "print(outfile)"
   ]
  },
  {
   "cell_type": "code",
   "execution_count": 4,
   "metadata": {},
   "outputs": [
    {
     "name": "stdout",
     "output_type": "stream",
     "text": [
      "{1: 14, 2: 4}\n"
     ]
    }
   ],
   "source": [
    "employee = dict()\n",
    "employee[1] = 1\n",
    "employee[2] = 1\n",
    "employee[1] += 4\n",
    "employee[2] += 3\n",
    "employee[1] += 9\n",
    " \n",
    "print(employee)"
   ]
  },
  {
   "cell_type": "code",
   "execution_count": 5,
   "metadata": {},
   "outputs": [
    {
     "name": "stdout",
     "output_type": "stream",
     "text": [
      "{'this': 2, 'is': 3, 'sample': 1, 'string': 1}\n"
     ]
    }
   ],
   "source": [
    "string = 'this is sample is string is this'\n",
    "all_words = string.split()\n",
    "counter=dict()\n",
    "for i in all_words:\n",
    "    if i in counter:\n",
    "        counter[i] +=1\n",
    "    else:\n",
    "        counter[i] =1\n",
    "print(counter)"
   ]
  },
  {
   "cell_type": "code",
   "execution_count": 6,
   "metadata": {},
   "outputs": [
    {
     "name": "stdout",
     "output_type": "stream",
     "text": [
      "{'1': 4, '2': 2, '3': 2, '4': 1, '5': 2}\n"
     ]
    }
   ],
   "source": [
    "number=11123234551\n",
    "counter=dict()\n",
    "for i in str (number):\n",
    "    if i in counter:\n",
    "        counter[i] +=1\n",
    "    else:\n",
    "        counter[i]=1\n",
    "print(counter)"
   ]
  },
  {
   "cell_type": "code",
   "execution_count": 14,
   "metadata": {},
   "outputs": [
    {
     "name": "stdout",
     "output_type": "stream",
     "text": [
      "Entere a number:12\n",
      "counter  : 12\n",
      "counter  : 11\n",
      "counter  : 10\n",
      "counter  : 9\n",
      "counter  : 8\n",
      "counter  : 7\n",
      "counter  : 6\n",
      "counter  : 5\n",
      "counter  : 4\n",
      "counter  : 3\n",
      "counter  : 2\n",
      "counter  : 1\n",
      "All Above are natural numbers\n"
     ]
    }
   ],
   "source": [
    "counter=1\n",
    "number=int(input(\"Entere a number:\"))\n",
    "while number >= counter:\n",
    "    print(\"counter  : %d\" %(number))\n",
    "    number -= 1\n",
    "else:\n",
    "    print(\"All Above are natural numbers\")"
   ]
  },
  {
   "cell_type": "code",
   "execution_count": 19,
   "metadata": {},
   "outputs": [
    {
     "name": "stdout",
     "output_type": "stream",
     "text": [
      "Even number : 2\n",
      "Even number : 4\n",
      "Even number : 6\n",
      "Even number : 8\n",
      "Even number : 10\n",
      "Even number : 12\n",
      "Even number : 14\n",
      "All above are Odd number ....\n"
     ]
    }
   ],
   "source": [
    "start , end = 1, 15\n",
    "while start < end:\n",
    "    if start %2 == 0:\n",
    "        print(\"Even number : %d\" %(start))\n",
    "    start +=1\n",
    "else:\n",
    "    print(\"All above are Odd number ....\")\n"
   ]
  },
  {
   "cell_type": "code",
   "execution_count": 23,
   "metadata": {},
   "outputs": [
    {
     "name": "stdout",
     "output_type": "stream",
     "text": [
      "Entre number : 12\n",
      "odd number : 13\n",
      "odd number : 15\n",
      "odd number : 17\n",
      "odd number : 19\n",
      "odd number : 21\n",
      "odd number : 23\n",
      "odd number : 25\n",
      "odd number : 27\n",
      "odd number : 29\n",
      "odd number : 31\n"
     ]
    }
   ],
   "source": [
    "counter=1\n",
    "number=int(input(\"Entre number : \"))\n",
    "while counter <=10:\n",
    "    if number%2!=0:\n",
    "        print(\"odd number : %d\" %(number))\n",
    "        counter+=1\n",
    "    number+=1"
   ]
  },
  {
   "cell_type": "code",
   "execution_count": 22,
   "metadata": {},
   "outputs": [
    {
     "name": "stdout",
     "output_type": "stream",
     "text": [
      "Enter a number: 12\n",
      "odd Number: 13\n",
      "odd Number: 15\n",
      "odd Number: 17\n",
      "odd Number: 19\n",
      "odd Number: 21\n",
      "odd Number: 23\n",
      "odd Number: 25\n",
      "odd Number: 27\n",
      "odd Number: 29\n",
      "odd Number: 31\n"
     ]
    }
   ],
   "source": [
    "counter = 1\n",
    "number = int(input('Enter a number: '))\n",
    " \n",
    "while counter <= 10:\n",
    "    if number % 2 == 1:\n",
    "        print('odd Number: %d' %(number))\n",
    "        counter += 1\n",
    "    number += 1"
   ]
  },
  {
   "cell_type": "code",
   "execution_count": 34,
   "metadata": {},
   "outputs": [
    {
     "name": "stdout",
     "output_type": "stream",
     "text": [
      "A B C D E F G H I J K L M N O P Q R S T U V W X Y Z "
     ]
    }
   ],
   "source": [
    "counter, end = 65, 65+26\n",
    "while counter < end:\n",
    "    print(chr(counter), end=' ')\n",
    "    if counter > 89:\n",
    "        break\n",
    "    counter += 1\n",
    "else:\n",
    "    print('This wont execute as we are breaking intentionally from loop..')"
   ]
  },
  {
   "cell_type": "code",
   "execution_count": 43,
   "metadata": {},
   "outputs": [
    {
     "name": "stdout",
     "output_type": "stream",
     "text": [
      "2 3 4 5 6 7 8 9 : ; < = > ? @ A B C D E F G H I J K \n"
     ]
    }
   ],
   "source": [
    "counter,end = 50, 50+26\n",
    "while counter < end:\n",
    "    print(chr(counter),end =\" \")\n",
    "    if counter > 89:\n",
    "        break\n",
    "    counter +=1\n",
    "else:\n",
    "    print(\"\")\n"
   ]
  },
  {
   "cell_type": "code",
   "execution_count": 47,
   "metadata": {},
   "outputs": [
    {
     "name": "stdout",
     "output_type": "stream",
     "text": [
      "0\n",
      "1\n",
      "2\n",
      "3\n",
      "4\n"
     ]
    }
   ],
   "source": [
    "for i in range(5):\n",
    "    print(i,sep=\",\",end=\"\\n\")\n",
    "    "
   ]
  },
  {
   "cell_type": "code",
   "execution_count": 46,
   "metadata": {},
   "outputs": [
    {
     "name": "stdout",
     "output_type": "stream",
     "text": [
      "0\n",
      "1\n",
      "2\n",
      "3\n",
      "4\n",
      "5\n",
      "6\n",
      "7\n",
      "8\n",
      "9\n"
     ]
    }
   ],
   "source": [
    "for i in range(10):\n",
    "    print(i, sep = ',' , end='\\n')"
   ]
  },
  {
   "cell_type": "code",
   "execution_count": 49,
   "metadata": {},
   "outputs": [
    {
     "name": "stdout",
     "output_type": "stream",
     "text": [
      "P,Y,T,H,O,N,"
     ]
    }
   ],
   "source": [
    "for i in \"PYTHON\":\n",
    "    print(i, end=\",\")"
   ]
  },
  {
   "cell_type": "code",
   "execution_count": 51,
   "metadata": {},
   "outputs": [
    {
     "name": "stdout",
     "output_type": "stream",
     "text": [
      "Java,Selenium,Python,"
     ]
    }
   ],
   "source": [
    "for i in {'Python', 'Java', 'Selenium'}:\n",
    "    print(i, end=\",\")"
   ]
  },
  {
   "cell_type": "code",
   "execution_count": 55,
   "metadata": {},
   "outputs": [
    {
     "name": "stdout",
     "output_type": "stream",
     "text": [
      "1\n",
      "2\n",
      "3\n"
     ]
    }
   ],
   "source": [
    " for i in {1:'Python', 2:'Java', 3:'Selenium'}:\n",
    "    print(i)"
   ]
  },
  {
   "cell_type": "code",
   "execution_count": 60,
   "metadata": {},
   "outputs": [
    {
     "name": "stdout",
     "output_type": "stream",
     "text": [
      "Enter a number : 5\n",
      "1,2,3,4,5,"
     ]
    }
   ],
   "source": [
    "number = int(input('Enter a number : '))\n",
    "for i in range(1, number+1):\n",
    "    print(i, end=',')"
   ]
  },
  {
   "cell_type": "code",
   "execution_count": 61,
   "metadata": {},
   "outputs": [
    {
     "name": "stdout",
     "output_type": "stream",
     "text": [
      "5,4,3,2,1,"
     ]
    }
   ],
   "source": [
    "\n",
    "for i in reversed(range(1, number+1)):\n",
    "    print(i, end=',')"
   ]
  },
  {
   "cell_type": "code",
   "execution_count": 62,
   "metadata": {},
   "outputs": [
    {
     "name": "stdout",
     "output_type": "stream",
     "text": [
      "A,B,C,D,E,F,G,H,I,J,K,L,M,N,O,P,Q,R,S,T,U,V,W,X,Y,Z,"
     ]
    }
   ],
   "source": [
    "for i in range(65, 65+26):\n",
    "    print(chr(i), end=',')\n",
    "    "
   ]
  },
  {
   "cell_type": "code",
   "execution_count": 63,
   "metadata": {},
   "outputs": [
    {
     "name": "stdout",
     "output_type": "stream",
     "text": [
      "2,4,6,8,10,12,14,16,18,20,22,24,26,28,30,32,34,36,38,40,42,44,46,48,50,52,54,56,58,60,62,64,66,68,70,72,74,76,78,80,82,84,86,88,90,92,94,96,98,"
     ]
    }
   ],
   "source": [
    "for i in range(2, 100, 2):\n",
    "    print(i, end=',')"
   ]
  },
  {
   "cell_type": "code",
   "execution_count": 65,
   "metadata": {},
   "outputs": [
    {
     "name": "stdout",
     "output_type": "stream",
     "text": [
      "1,3,5,7,9,11,13,15,17,19,21,23,25,27,29,31,33,35,37,39,41,43,45,47,49,51,53,55,57,59,61,63,65,67,69,71,73,75,77,79,81,83,85,87,89,91,93,95,97,99,"
     ]
    }
   ],
   "source": [
    "\n",
    "for i in range(1, 100, 2):\n",
    "    print(i, end=',')"
   ]
  },
  {
   "cell_type": "code",
   "execution_count": 68,
   "metadata": {},
   "outputs": [
    {
     "ename": "AttributeError",
     "evalue": "'int' object has no attribute 'loads'",
     "output_type": "error",
     "traceback": [
      "\u001b[1;31m---------------------------------------------------------------------------\u001b[0m",
      "\u001b[1;31mAttributeError\u001b[0m                            Traceback (most recent call last)",
      "\u001b[1;32m<ipython-input-68-ca51a048d9de>\u001b[0m in \u001b[0;36m<module>\u001b[1;34m\u001b[0m\n\u001b[0;32m      5\u001b[0m \u001b[1;33m\u001b[0m\u001b[0m\n\u001b[0;32m      6\u001b[0m \u001b[0mcontent\u001b[0m \u001b[1;33m=\u001b[0m \u001b[0mrequests\u001b[0m\u001b[1;33m.\u001b[0m\u001b[0mget\u001b[0m\u001b[1;33m(\u001b[0m\u001b[0murl\u001b[0m\u001b[1;33m)\u001b[0m\u001b[1;33m.\u001b[0m\u001b[0mtext\u001b[0m\u001b[1;33m\u001b[0m\u001b[1;33m\u001b[0m\u001b[0m\n\u001b[1;32m----> 7\u001b[1;33m \u001b[0mdataset\u001b[0m \u001b[1;33m=\u001b[0m \u001b[0mjson\u001b[0m\u001b[1;33m.\u001b[0m\u001b[0mloads\u001b[0m\u001b[1;33m(\u001b[0m\u001b[0mcontent\u001b[0m\u001b[1;33m)\u001b[0m\u001b[1;33m\u001b[0m\u001b[1;33m\u001b[0m\u001b[0m\n\u001b[0m\u001b[0;32m      8\u001b[0m \u001b[0mprint\u001b[0m\u001b[1;33m(\u001b[0m\u001b[0mdataset\u001b[0m\u001b[1;33m[\u001b[0m\u001b[1;34m'dataset'\u001b[0m\u001b[1;33m]\u001b[0m\u001b[1;33m[\u001b[0m\u001b[1;34m'data'\u001b[0m\u001b[1;33m]\u001b[0m\u001b[1;33m)\u001b[0m\u001b[1;33m\u001b[0m\u001b[1;33m\u001b[0m\u001b[0m\n",
      "\u001b[1;31mAttributeError\u001b[0m: 'int' object has no attribute 'loads'"
     ]
    }
   ],
   "source": [
    "import requests\n",
    " \n",
    "url = 'https://www.quandl.com/api/v3/datasets/BSE/BOM504067.json?api_key=fKXsYh9Qi9ySbS8X6pNh'\n",
    " \n",
    "content = requests.get(url).text\n",
    "dataset = json.loads(content)\n",
    "print(dataset['dataset']['data'])"
   ]
  },
  {
   "cell_type": "code",
   "execution_count": 7,
   "metadata": {},
   "outputs": [],
   "source": [
    "l=[10,20,40,50]\n",
    "i=0\n",
    "for x in l:\n",
    "    if x%2==1:\n",
    "        \n",
    "        print(x,end=\" \")\n"
   ]
  },
  {
   "cell_type": "code",
   "execution_count": 2,
   "metadata": {},
   "outputs": [
    {
     "name": "stdout",
     "output_type": "stream",
     "text": [
      "1 2 3 4 5 6 7 8 9 "
     ]
    }
   ],
   "source": [
    "list=[1,2,3,4,5,6,7,8,9]\n",
    "i=0\n",
    "while i<len(list):\n",
    "    print(list[i],end= \" \")\n",
    "    i+=1"
   ]
  },
  {
   "cell_type": "code",
   "execution_count": 19,
   "metadata": {},
   "outputs": [
    {
     "name": "stdout",
     "output_type": "stream",
     "text": [
      "1\n",
      "3\n",
      "None\n",
      "['a', 'b', 'c', 'd', 'f']\n",
      "5\n",
      "a is availbale at postive index : 0 and -ve index:  -5\n",
      "b is availbale at postive index : 1 and -ve index:  -4\n",
      "c is availbale at postive index : 2 and -ve index:  -3\n",
      "d is availbale at postive index : 3 and -ve index:  -2\n",
      "f is availbale at postive index : 4 and -ve index:  -1\n"
     ]
    }
   ],
   "source": [
    "list=[\"a\",\"b\",\"c\",\"d\"]\n",
    "print(list.count(\"a\"))\n",
    "print(list.index(\"d\"))\n",
    "print(list.insert(4,\"f\"))\n",
    "print(list)\n",
    "print(len(list))\n",
    "for i in range(len(list)):\n",
    "    print(list[i] ,\"is availbale at postive index :\" ,i,\"and -ve index: \",(i-len(list)))"
   ]
  },
  {
   "cell_type": "code",
   "execution_count": 17,
   "metadata": {},
   "outputs": [
    {
     "name": "stdout",
     "output_type": "stream",
     "text": [
      "Help on built-in function insert:\n",
      "\n",
      "insert(index, object, /) method of builtins.list instance\n",
      "    Insert object before index.\n",
      "\n"
     ]
    }
   ],
   "source": [
    "help(list.insert)"
   ]
  },
  {
   "cell_type": "code",
   "execution_count": 21,
   "metadata": {},
   "outputs": [
    {
     "name": "stdout",
     "output_type": "stream",
     "text": [
      "[0, 20, 40, 60, 80, 100]\n"
     ]
    }
   ],
   "source": [
    "l=[]\n",
    "for x in range(101):\n",
    "    if x%20==0:\n",
    "        l.append(x)\n",
    "print(l)"
   ]
  },
  {
   "cell_type": "code",
   "execution_count": 24,
   "metadata": {},
   "outputs": [
    {
     "name": "stdout",
     "output_type": "stream",
     "text": [
      "Entre element want to removed : 80\n",
      "Removed element successfully\n",
      "[20, 30, 40, 50, 60, 70, 80]\n",
      "Removed element successfully\n",
      "[20, 40, 50, 60, 70, 80]\n",
      "Removed element successfully\n",
      "[20, 40, 60, 70, 80]\n",
      "Removed element successfully\n",
      "[20, 40, 60, 80]\n"
     ]
    }
   ],
   "source": [
    "l1=[10,20,30,40,50,60,70,80]\n",
    "x=int(input(\"Entre element want to removed : \"))\n",
    "for x in l1:\n",
    "    l1.remove(x)\n",
    "    print(\"Removed element successfully\")\n",
    "    print(l1)\n"
   ]
  },
  {
   "cell_type": "code",
   "execution_count": 37,
   "metadata": {},
   "outputs": [
    {
     "name": "stdout",
     "output_type": "stream",
     "text": [
      "None\n",
      "None\n",
      "[80, 60, 50, 40, 30, 20, 10]\n"
     ]
    }
   ],
   "source": [
    "\n",
    "l1=[10,20,30,40,50,60,70,80]\n",
    "\n",
    "print(l1.remove(70))\n",
    "print(l1.reverse())\n",
    "print(l1)"
   ]
  },
  {
   "cell_type": "code",
   "execution_count": 30,
   "metadata": {},
   "outputs": [
    {
     "name": "stdout",
     "output_type": "stream",
     "text": [
      "None\n"
     ]
    }
   ],
   "source": [
    "print(l1.reverse())"
   ]
  },
  {
   "cell_type": "code",
   "execution_count": 48,
   "metadata": {},
   "outputs": [
    {
     "name": "stdout",
     "output_type": "stream",
     "text": [
      "[0, 2, 5, 10, 20, 30, 40, 50, 60, 70, 80]\n"
     ]
    }
   ],
   "source": [
    "l1=[10,20,30,40,5,2,0,50,60,70,80]\n",
    "l1.sort(reverse=False)\n",
    "print(l1)"
   ]
  },
  {
   "cell_type": "code",
   "execution_count": 49,
   "metadata": {},
   "outputs": [
    {
     "name": "stdout",
     "output_type": "stream",
     "text": [
      "True\n"
     ]
    }
   ],
   "source": [
    "x=[50,20,30]\n",
    "y=[40,20,30,50,90,70]\n",
    "print(x>y)"
   ]
  },
  {
   "cell_type": "code",
   "execution_count": 60,
   "metadata": {},
   "outputs": [
    {
     "name": "stdout",
     "output_type": "stream",
     "text": [
      "10 20 30 \n",
      "40 50 60 \n",
      "70 80 90 \n"
     ]
    }
   ],
   "source": [
    "x=[[10,20,30],[40,50,60],[70,80,90]]\n",
    "for i in range(len(x)):\n",
    "    for j in range(len(x[i])):\n",
    "        print(x[i][j],end=\" \")\n",
    "    print()\n",
    "\n"
   ]
  },
  {
   "cell_type": "code",
   "execution_count": 4,
   "metadata": {},
   "outputs": [
    {
     "name": "stdout",
     "output_type": "stream",
     "text": [
      "[1, 27, 3125, 823543, 387420489]\n"
     ]
    }
   ],
   "source": [
    "l=[x**x for x in range(1,11) if (x**x%2!=0)]\n",
    "print(l)"
   ]
  },
  {
   "cell_type": "code",
   "execution_count": 7,
   "metadata": {},
   "outputs": [
    {
     "name": "stdout",
     "output_type": "stream",
     "text": [
      "['Rudghabhai']\n"
     ]
    }
   ],
   "source": [
    "words=[\"Gopal\",\"Sopu\",\"lewa\",\"Rudghabhai\"]\n",
    "l=[w for w in words if len(w)>5]\n",
    "print(l)"
   ]
  },
  {
   "cell_type": "code",
   "execution_count": 9,
   "metadata": {},
   "outputs": [
    {
     "name": "stdout",
     "output_type": "stream",
     "text": [
      "[10, 20, 30, 40, 50]\n"
     ]
    }
   ],
   "source": [
    "n1=[10,20,30,40,50]\n",
    "n2=[60,70,80,90,100]\n",
    "n3=[x for x in n1 if x not in n2]\n",
    "print(n3)"
   ]
  },
  {
   "cell_type": "code",
   "execution_count": 15,
   "metadata": {},
   "outputs": [
    {
     "name": "stdout",
     "output_type": "stream",
     "text": [
      "[['RAMAYN', 6], ['HI', 2], ['EK', 2], ['SATYA', 5], ['KATHA', 5], ['AHE', 3]]\n"
     ]
    }
   ],
   "source": [
    "Words=\"Ramayn hi ek satya katha ahe\".split()\n",
    "l=[ [w.upper(),len(w)]for w in Words]\n",
    "print(l)\n",
    "\n"
   ]
  },
  {
   "cell_type": "code",
   "execution_count": 5,
   "metadata": {},
   "outputs": [
    {
     "name": "stdout",
     "output_type": "stream",
     "text": [
      "012345679\n"
     ]
    }
   ],
   "source": [
    "l=\"012345679\"\n",
    "l[:-3:-1]\n",
    "print(l)"
   ]
  },
  {
   "cell_type": "code",
   "execution_count": null,
   "metadata": {},
   "outputs": [],
   "source": []
  }
 ],
 "metadata": {
  "kernelspec": {
   "display_name": "Python 3",
   "language": "python",
   "name": "python3"
  },
  "language_info": {
   "codemirror_mode": {
    "name": "ipython",
    "version": 3
   },
   "file_extension": ".py",
   "mimetype": "text/x-python",
   "name": "python",
   "nbconvert_exporter": "python",
   "pygments_lexer": "ipython3",
   "version": "3.7.3"
  }
 },
 "nbformat": 4,
 "nbformat_minor": 2
}
