{
 "cells": [
  {
   "cell_type": "code",
   "execution_count": null,
   "metadata": {},
   "outputs": [],
   "source": [
    "import timeit\n",
    "\n",
    "\n",
    "py_sec=timeit.timeit(\"sum(list(range(10000)))\",number=10000)\n",
    "np_sec=timeit.timeit(\"np.sum(na)\" ,setup=\"import numpy as np ; na=np.arange(10000)\",number=10000)\n",
    "\n",
    "print(py_sec)\n",
    "print(np_sec)"
   ]
  },
  {
   "cell_type": "code",
   "execution_count": null,
   "metadata": {},
   "outputs": [],
   "source": [
    "import numpy as np\n",
    "\n",
    "a1 = np.array([1,2,3])\n",
    "print(a1.ndim)\n",
    "print(a1.size)\n",
    "print(len(a1))\n",
    "print(type(a1))\n",
    "print(a1.dtype)\n",
    "print(a1.itemsize)\n",
    "print(a1.max)\n",
    "print(a1.mean)\n",
    "print(a1.std)"
   ]
  },
  {
   "cell_type": "code",
   "execution_count": null,
   "metadata": {},
   "outputs": [],
   "source": [
    "np.info(np.sum)"
   ]
  },
  {
   "cell_type": "code",
   "execution_count": null,
   "metadata": {},
   "outputs": [],
   "source": [
    "import numpy as np\n",
    "\n",
    "a1= np.array([1,2,3,4])\n",
    "b1= np.array([5,6,7,8])\n",
    "\n",
    "#Arithatic opr\n",
    "\n",
    "print(a1 * 2)\n",
    "print(b1 * 2)\n",
    "print(a1 ** 2)\n",
    "print(a1 ** b1)\n",
    "\n",
    "\n",
    "#Membership opr\n",
    "\n",
    "print(1 in a1)\n",
    "print(2 in b1)\n",
    "\n",
    "#Identity opr\n",
    "\n",
    "print(a1 is b1)\n",
    "\n",
    "#condtional opr\n",
    "print(a1 == b1)"
   ]
  },
  {
   "cell_type": "code",
   "execution_count": null,
   "metadata": {},
   "outputs": [],
   "source": [
    "import numpy as np\n",
    "\n",
    "a1=np.array([1,2,3])\n",
    "b1=a1[[0,1]]  #shollow copy\n",
    "\n",
    "\n",
    "print(a1[1])\n",
    "print(a1[:2])\n",
    "print(a1[[0,2]])"
   ]
  },
  {
   "cell_type": "markdown",
   "metadata": {},
   "source": [
    "# 2D "
   ]
  },
  {
   "cell_type": "code",
   "execution_count": null,
   "metadata": {},
   "outputs": [],
   "source": [
    "import numpy as np\n",
    "\n",
    "a1= np.array([[1,2,3,4],[5,6,7,8]])\n",
    "\n",
    "print(a1.shape)\n",
    "print(a1.ndim)\n",
    "print(a1.size)\n",
    "print(len(a1))\n",
    "print(type(a1))\n",
    "print(a1.dtype)\n",
    "print(a1.itemsize)\n",
    "print(a1.max)\n",
    "print(a1.mean)\n",
    "print(a1.std)"
   ]
  },
  {
   "cell_type": "code",
   "execution_count": null,
   "metadata": {},
   "outputs": [],
   "source": [
    "import numpy as np\n",
    "\n",
    "a1= np.array([[1,2,3,4],[5,6,7,8]])\n",
    "b1= np.array([[10,20,30,40],[50,60,70,80]])\n",
    "\n",
    "print(a1+b1)\n",
    "print(a1 * b1)\n"
   ]
  },
  {
   "cell_type": "code",
   "execution_count": null,
   "metadata": {},
   "outputs": [],
   "source": [
    "import numpy as np\n",
    "\n",
    "a1= np.array([[1,2,3,4],[5,6,7,8]])\n",
    "\n",
    "print(a1 * 2)\n",
    "\n",
    "#indexing\n",
    "\n",
    "print(a1[:,2])\n",
    "print(a1[1,:])\n",
    "print(a1[0,:])"
   ]
  },
  {
   "cell_type": "code",
   "execution_count": null,
   "metadata": {},
   "outputs": [],
   "source": [
    "import numpy as np\n",
    "\n",
    "a1= np.array([[1,2,3,4],[5,6,7,8]])\n",
    "b1=a1[:,1]\n",
    "\n",
    "indexes = a1 %2 ==1\n",
    "\n",
    "print(a1[indexes])\n",
    "\n",
    "loc = np.where(a1 %2 ==1)\n",
    "print(a1[loc])\n",
    "\n",
    "#b1[0]=10\n",
    "#print(a1)\n"
   ]
  },
  {
   "cell_type": "code",
   "execution_count": null,
   "metadata": {},
   "outputs": [],
   "source": [
    "import numpy as np\n",
    "\n",
    "a1 =np.arange(100)\n",
    "\n",
    "print(a1)"
   ]
  },
  {
   "cell_type": "code",
   "execution_count": null,
   "metadata": {},
   "outputs": [],
   "source": [
    "import numpy as np\n",
    "\n",
    "a1 =np.arange(100).reshape((10,10))\n",
    "\n",
    "\n",
    "print(a1)\n",
    "\n"
   ]
  },
  {
   "cell_type": "code",
   "execution_count": null,
   "metadata": {},
   "outputs": [],
   "source": [
    "import numpy as np\n",
    "\n",
    "a1 =np.arange(100).reshape((10,10))\n",
    "\n",
    "b1=np.ones((10,10))\n",
    "\n",
    "c1= np.zeros((10,10))\n",
    "\n",
    "c1.fill(10)\n",
    "print(a1)\n",
    "\n",
    "print()\n",
    "print(b1)\n",
    "\n",
    "print()\n",
    "\n",
    "\n",
    "\n",
    "print(c1)\n",
    "\n"
   ]
  },
  {
   "cell_type": "code",
   "execution_count": null,
   "metadata": {},
   "outputs": [],
   "source": [
    "import numpy as np\n",
    "\n",
    "a1=np.array([[1,2,3]])\n",
    "a1=np.append(a1,[[4,5,6]], axis=0)\n",
    "\n",
    "print(a1)\n",
    "print(a1.mean(axis=1))\n",
    "print(a1.sum(axis=0))\n",
    "\n",
    "print(a1.prod(axis=0))\n",
    "print(a1.mean(axis=0))\n",
    "print(a1.std(axis=0))\n",
    "print(a1.max(axis=0))\n",
    "print(a1.min(axis=0))"
   ]
  },
  {
   "cell_type": "code",
   "execution_count": null,
   "metadata": {},
   "outputs": [],
   "source": [
    "a1=np.array([[10,2,13],[4,50,16]])\n",
    "a2 = a1.flatten()\n",
    "\n",
    "print(a2.argsort())"
   ]
  },
  {
   "cell_type": "code",
   "execution_count": null,
   "metadata": {},
   "outputs": [],
   "source": [
    "import numpy as np\n",
    "\n",
    "def pClosest(points, K): \n",
    "  \n",
    "    points.sort(key = lambda K: K[0]**2 + K[1]**2) \n",
    "  \n",
    "    return points[:K] \n",
    "  \n",
    " \n",
    "points = [[3, 3], [5, -1], [-2, 4]] \n",
    "  \n",
    "K = 2\n",
    "  \n",
    "print(pClosest(points, K)) \n"
   ]
  },
  {
   "cell_type": "code",
   "execution_count": null,
   "metadata": {},
   "outputs": [],
   "source": [
    "import numpy as np\n",
    "\n",
    "\n",
    "cordinates= np.array([[4,1],[5,10],[6,11],[19,10],[27,10],[6,4]])\n",
    "\n",
    "lables= [\"A\",\"B\",\"C\",\"D\",\"E\",\"F\"]\n",
    "\n",
    "to_find=np.array([27,10])\n",
    "\n",
    "loc=np.argsortt((np.sum(compilerdinates-to_find) **2 ,axis=1) **.5)[0]\n",
    "\n",
    "print(lables[loc])"
   ]
  },
  {
   "cell_type": "code",
   "execution_count": null,
   "metadata": {},
   "outputs": [],
   "source": []
  }
 ],
 "metadata": {
  "kernelspec": {
   "display_name": "Python 3",
   "language": "python",
   "name": "python3"
  },
  "language_info": {
   "codemirror_mode": {
    "name": "ipython",
    "version": 3
   },
   "file_extension": ".py",
   "mimetype": "text/x-python",
   "name": "python",
   "nbconvert_exporter": "python",
   "pygments_lexer": "ipython3",
   "version": "3.7.3"
  }
 },
 "nbformat": 4,
 "nbformat_minor": 2
}
