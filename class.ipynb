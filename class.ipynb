{
 "cells": [
  {
   "cell_type": "code",
   "execution_count": 1,
   "metadata": {},
   "outputs": [
    {
     "name": "stdout",
     "output_type": "stream",
     "text": [
      "5\n",
      "Manual\n"
     ]
    }
   ],
   "source": [
    "class Car (object):\n",
    "    \n",
    "    \n",
    "    No_of_Tyres=5\n",
    "    Steerin_Type=\"Manual\"\n",
    "\n",
    "Audi=Car()\n",
    "Merc=Car()\n",
    "\n",
    "print(Audi.No_of_Tyres)\n",
    "print(Merc.Steerin_Type)"
   ]
  },
  {
   "cell_type": "code",
   "execution_count": 3,
   "metadata": {},
   "outputs": [
    {
     "name": "stdout",
     "output_type": "stream",
     "text": [
      "Manual\n"
     ]
    }
   ],
   "source": [
    "class Car (object):\n",
    "    \n",
    "    def set_steeringType(this,steering_type):\n",
    "        this.steeringType=steering_type\n",
    "    \n",
    "    def get_steeringType(this):\n",
    "        return this.steeringType\n",
    "    \n",
    "audi=Car()\n",
    "audi.set_steeringType(\"Manual\")\n",
    "print(audi.get_steeringType())"
   ]
  },
  {
   "cell_type": "code",
   "execution_count": 8,
   "metadata": {},
   "outputs": [
    {
     "name": "stdout",
     "output_type": "stream",
     "text": [
      "Manual\n",
      "Automatic\n",
      "Manual\n"
     ]
    }
   ],
   "source": [
    "class Car(object):\n",
    "    \n",
    "    def __init__(self,name,no_of_tyres,steerig_type=\"Manual\"):\n",
    "        self.name= name\n",
    "        self.steerig_type=steerig_type\n",
    "        self.no_of_tyres=no_of_tyres\n",
    "        \n",
    "    def __del__(self):\n",
    "        print(\"Removing object of car class\",self.name)\n",
    "\n",
    "audi= Car(\"Audi\",5,\"Manual\") #Create an instance of car class\n",
    "merc= Car(\"Merc\",6,\"Automatic\")\n",
    "bmw= Car(\"BMW\",10)\n",
    "\n",
    "print(audi.steerig_type)\n",
    "print(merc.steerig_type)\n",
    "print(bmw.steerig_type) #manual"
   ]
  },
  {
   "cell_type": "code",
   "execution_count": 5,
   "metadata": {},
   "outputs": [
    {
     "name": "stdout",
     "output_type": "stream",
     "text": [
      "Fido\n",
      "Buddy\n",
      "Canin\n"
     ]
    }
   ],
   "source": [
    "class Dog:\n",
    "    \n",
    "    kind= \"Canin\"\n",
    "    \n",
    "    def __init__(self,name):\n",
    "        self.name= name\n",
    "        \n",
    "d= Dog(\"Fido\")\n",
    "e= Dog(\"Buddy\")\n",
    "\n",
    "print(d.name)\n",
    "print(e.name)\n",
    "print(e.kind)\n"
   ]
  },
  {
   "cell_type": "code",
   "execution_count": 16,
   "metadata": {},
   "outputs": [
    {
     "name": "stdout",
     "output_type": "stream",
     "text": [
      "4\n",
      " Dhoni Kohli Sharma Raina warner Lee ponting Smith\n",
      "False\n"
     ]
    }
   ],
   "source": [
    "class Team(object):\n",
    "    def __init__(self,name,*players):\n",
    "        self.name=name\n",
    "        self.players=players\n",
    "        \n",
    "    def __add__(self,other):\n",
    "        allplayers=str()\n",
    "        \n",
    "        for player in self.players:\n",
    "            allplayers += \" \" + player\n",
    "            \n",
    "        for  player in other.players:\n",
    "            allplayers += \" \" + player\n",
    "        return allplayers\n",
    "    \n",
    "    def __len__(self):\n",
    "        count=0\n",
    "        for player in self.players:\n",
    "            count +=1\n",
    "        return count\n",
    "    \n",
    "    def __str__(self):\n",
    "        return self.name\n",
    "    \n",
    "    def __eq__(self,other):\n",
    "        if self.players==other.players:\n",
    "            \n",
    "            return True\n",
    "        else:\n",
    "            return False\n",
    "    \n",
    "India= Team(\"India\",\"Dhoni\",\"Kohli\",\"Sharma\",\"Raina\")\n",
    "Austrelia=Team(\"Austrelia\",\"warner\",\"Lee\",\"ponting\",\"Smith\")\n",
    "\n",
    "print(len(India))\n",
    "print(India+Austrelia)\n",
    "print(Austrelia==India)\n",
    "\n",
    "    "
   ]
  },
  {
   "cell_type": "code",
   "execution_count": 17,
   "metadata": {},
   "outputs": [
    {
     "name": "stdout",
     "output_type": "stream",
     "text": [
      "1\n",
      "2\n",
      "3\n",
      "4\n",
      "5\n",
      "6\n",
      "7\n",
      "8\n",
      "9\n"
     ]
    }
   ],
   "source": [
    "class counter (object):\n",
    "    \n",
    "    def __init__(self,start,end):\n",
    "        self.start=start\n",
    "        self.end=end\n",
    "        \n",
    "    def __iter__(self):\n",
    "        return self\n",
    "        \n",
    "    def __next__(self):\n",
    "        if self.start < self.end:\n",
    "            self.start +=1\n",
    "            return self.start -1\n",
    "        else:\n",
    "            raise StopIteration(\"Value Exhausted from object\")\n",
    "            \n",
    "c=counter(1,10)\n",
    "for i in c:\n",
    "    print(i)"
   ]
  },
  {
   "cell_type": "code",
   "execution_count": 22,
   "metadata": {},
   "outputs": [
    {
     "name": "stdout",
     "output_type": "stream",
     "text": [
      "1\n",
      "2\n",
      "3\n",
      "4\n",
      "5\n",
      "6\n",
      "7\n",
      "8\n",
      "9\n"
     ]
    }
   ],
   "source": [
    "def counter (start,end):\n",
    "    while start < end:\n",
    "        yield start\n",
    "        start +=1\n",
    "\n",
    "        \n",
    "gen = counter(1,10)\n",
    "for i in gen:\n",
    "    print(i)"
   ]
  },
  {
   "cell_type": "code",
   "execution_count": null,
   "metadata": {},
   "outputs": [],
   "source": []
  }
 ],
 "metadata": {
  "kernelspec": {
   "display_name": "Python 3",
   "language": "python",
   "name": "python3"
  },
  "language_info": {
   "codemirror_mode": {
    "name": "ipython",
    "version": 3
   },
   "file_extension": ".py",
   "mimetype": "text/x-python",
   "name": "python",
   "nbconvert_exporter": "python",
   "pygments_lexer": "ipython3",
   "version": "3.7.3"
  }
 },
 "nbformat": 4,
 "nbformat_minor": 2
}
